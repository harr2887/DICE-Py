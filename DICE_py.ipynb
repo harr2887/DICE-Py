{
 "cells": [
  {
   "cell_type": "markdown",
   "id": "55a8ef29-9b47-47ab-ab90-3d81dd1a611f",
   "metadata": {},
   "source": [
    "# DICE-Py Dev\n",
    "\n",
    "### Author: Jacob Harris\n",
    "\n",
    "MS Thesis work replicating Nordhaus' DICE Model from GAMS to Python"
   ]
  },
  {
   "cell_type": "code",
   "execution_count": 1,
   "id": "af9dfb70-401e-4baa-8c4b-b8d33b2390b2",
   "metadata": {},
   "outputs": [],
   "source": [
    "# Define params here"
   ]
  }
 ],
 "metadata": {
  "kernelspec": {
   "display_name": "Python 3 (ipykernel)",
   "language": "python",
   "name": "python3"
  },
  "language_info": {
   "codemirror_mode": {
    "name": "ipython",
    "version": 3
   },
   "file_extension": ".py",
   "mimetype": "text/x-python",
   "name": "python",
   "nbconvert_exporter": "python",
   "pygments_lexer": "ipython3",
   "version": "3.10.5"
  }
 },
 "nbformat": 4,
 "nbformat_minor": 5
}
