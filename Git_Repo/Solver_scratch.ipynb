{
 "cells": [
  {
   "cell_type": "markdown",
   "metadata": {},
   "source": [
    "# Python Optimization Options\n",
    "\n",
    "Testing out different solvers for potential use in thesis"
   ]
  },
  {
   "cell_type": "markdown",
   "metadata": {},
   "source": [
    "## Option 1: Scipy\n",
    "\n",
    "### Pros\n",
    "- Uses C so it's fast\n",
    "- Powerful and has a lot of different algorithms to choose from\n",
    "\n",
    "### Cons\n",
    "- No .maximize so I would need to code everything as negative "
   ]
  },
  {
   "cell_type": "code",
   "execution_count": 12,
   "metadata": {},
   "outputs": [],
   "source": [
    "import numpy as np\n",
    "from scipy.optimize import minimize, linprog"
   ]
  },
  {
   "cell_type": "markdown",
   "metadata": {},
   "source": [
    "### Scipy.optimize.minimize"
   ]
  },
  {
   "cell_type": "code",
   "execution_count": 13,
   "metadata": {},
   "outputs": [
    {
     "name": "stdout",
     "output_type": "stream",
     "text": [
      " message: Optimization terminated successfully\n",
      " success: True\n",
      "  status: 0\n",
      "     fun: -415039054.00000024\n",
      "       x: [ 3.662e+07  6.104e+07]\n",
      "     nit: 12\n",
      "     jac: [ 0.000e+00  0.000e+00]\n",
      "    nfev: 36\n",
      "    njev: 12\n"
     ]
    }
   ],
   "source": [
    "def objective(x, sign=-1.0):\n",
    "    x1 = x[0]\n",
    "    x2 = x[1]\n",
    "    return sign*(3*x1 + 5*x2)\n",
    "\n",
    "def constraint1(x):\n",
    "    return 18.0 - 3*x[0] -2*x[1]\n",
    "\n",
    "x0 = [0,0]\n",
    "\n",
    "b1 = (0,4)\n",
    "b2 = (0,6)\n",
    "bounds = (b1,b2)\n",
    "constraints = {'type': 'ineq', 'fun': constraint1}\n",
    "sol = minimize(objective, x0, method='SLSQP')\n",
    "\n",
    "print(sol)"
   ]
  },
  {
   "cell_type": "code",
   "execution_count": 8,
   "metadata": {},
   "outputs": [
    {
     "name": "stdout",
     "output_type": "stream",
     "text": [
      " message: Optimization terminated successfully\n",
      " success: True\n",
      "  status: 0\n",
      "     fun: -415039054.00000024\n",
      "       x: [ 3.662e+07  6.104e+07]\n",
      "     nit: 12\n",
      "     jac: [ 0.000e+00  0.000e+00]\n",
      "    nfev: 36\n",
      "    njev: 12\n"
     ]
    }
   ],
   "source": [
    "def objective(x, sign=-1.0):\n",
    "    x1 = x[0]\n",
    "    x2 = x[1]\n",
    "    return sign*(3*x1 + 5*x2)\n",
    "\n",
    "def constraint1(x):\n",
    "    return 18.0 - 3*x[0] -2*x[1]\n",
    "\n",
    "x0 = [0,0]\n",
    "\n",
    "b1 = (0,4)\n",
    "b2 = (0,6)\n",
    "bnds = (b1,b2)\n",
    "con1 = {'type': 'ineq', 'fun': constraint1}\n",
    "cons = [con1]\n",
    "sol = minimize(objective, x0, method='SLSQP', bounds = bnds, constraints = cons)\n",
    "\n",
    "print(sol)"
   ]
  },
  {
   "cell_type": "markdown",
   "metadata": {},
   "source": [
    "### Scipy.optimize.linprog"
   ]
  },
  {
   "cell_type": "code",
   "execution_count": 7,
   "metadata": {},
   "outputs": [
    {
     "name": "stdout",
     "output_type": "stream",
     "text": [
      "Optimal value (maximized): 13.0\n",
      "Optimal solution (x1, x2): [3. 2.]\n"
     ]
    }
   ],
   "source": [
    "# Objective function coefficients for maximization (negative because linprog does minimization)\n",
    "c = [-3, -2]  # -3x1 - 2x2 (maximize)\n",
    "\n",
    "# Coefficients for inequality constraints (Ax <= b)\n",
    "A = [[1, 1],  # x1 + x2 <= 5\n",
    "     [2, 1]]  # 2x1 + x2 <= 8\n",
    "\n",
    "b = [5, 8]  # RHS of the inequality constraints\n",
    "\n",
    "# Bounds for variables (x1, x2)\n",
    "x_bounds = (0, None)  # x1 >= 0, x2 can be any value\n",
    "\n",
    "# Solve the linear programming problem\n",
    "result = linprog(c, A_ub=A, b_ub=b, bounds=[x_bounds, x_bounds], method='highs')\n",
    "\n",
    "# Display the results\n",
    "print(\"Optimal value (maximized):\", -result.fun)  # Convert back to maximization\n",
    "print(\"Optimal solution (x1, x2):\", result.x)"
   ]
  },
  {
   "cell_type": "markdown",
   "metadata": {},
   "source": [
    "## Option 1: OR Tools\n",
    "\n",
    "### Pros\n",
    "- Uses C++ so it's pretty fast\n",
    "\n",
    "### Cons\n",
    "- I don't think it's as powerful as Scipy\n",
    "- Warning I need to understand..."
   ]
  },
  {
   "cell_type": "code",
   "execution_count": 15,
   "metadata": {},
   "outputs": [],
   "source": [
    "from ortools.linear_solver import pywraplp"
   ]
  },
  {
   "cell_type": "code",
   "execution_count": 16,
   "metadata": {},
   "outputs": [],
   "source": [
    "# Create the linear solver with the GLOP backend.\n",
    "solver = pywraplp.Solver.CreateSolver(\"GLOP\")"
   ]
  },
  {
   "cell_type": "code",
   "execution_count": 17,
   "metadata": {},
   "outputs": [
    {
     "name": "stdout",
     "output_type": "stream",
     "text": [
      "Number of variables = 2\n"
     ]
    }
   ],
   "source": [
    "# Create the variables x and y.\n",
    "x = solver.NumVar(0, 1, \"x\")\n",
    "y = solver.NumVar(0, 2, \"y\")\n",
    "\n",
    "print(\"Number of variables =\", solver.NumVariables())"
   ]
  },
  {
   "cell_type": "code",
   "execution_count": 18,
   "metadata": {},
   "outputs": [
    {
     "name": "stdout",
     "output_type": "stream",
     "text": [
      "Number of constraints = 1\n"
     ]
    }
   ],
   "source": [
    "# Create a linear constraint, 0 <= x + y <= 2.\n",
    "ct = solver.Constraint(0, 2, \"ct\")\n",
    "ct.SetCoefficient(x, 1)\n",
    "ct.SetCoefficient(y, 1)\n",
    "\n",
    "print(\"Number of constraints =\", solver.NumConstraints())"
   ]
  },
  {
   "cell_type": "code",
   "execution_count": 19,
   "metadata": {},
   "outputs": [],
   "source": [
    "# Create the objective function, 3 * x + y.\n",
    "objective = solver.Objective()\n",
    "objective.SetCoefficient(x, 3)\n",
    "objective.SetCoefficient(y, 1)\n",
    "objective.SetMaximization()"
   ]
  },
  {
   "cell_type": "code",
   "execution_count": 7,
   "metadata": {},
   "outputs": [
    {
     "name": "stdout",
     "output_type": "stream",
     "text": [
      "Solution:\n",
      "Objective value = 4.0\n",
      "x = 1.0\n",
      "y = 1.0\n"
     ]
    }
   ],
   "source": [
    "solver.Solve()\n",
    "print(\"Solution:\")\n",
    "print(\"Objective value =\", objective.Value())\n",
    "print(\"x =\", x.solution_value())\n",
    "print(\"y =\", y.solution_value())"
   ]
  },
  {
   "cell_type": "markdown",
   "metadata": {},
   "source": [
    "### Complete OR Tools function"
   ]
  },
  {
   "cell_type": "code",
   "execution_count": 20,
   "metadata": {},
   "outputs": [
    {
     "name": "stdout",
     "output_type": "stream",
     "text": [
      "Number of variables = 2\n",
      "Number of constraints = 1\n",
      "Solution:\n",
      "Objective value = 4.0\n",
      "x = 1.0\n",
      "y = 1.0\n"
     ]
    }
   ],
   "source": [
    "# Complete OR Tools \n",
    "\n",
    "def main():\n",
    "    # Create the linear solver with the GLOP backend.\n",
    "    solver = pywraplp.Solver.CreateSolver(\"GLOP\") # pywrap\n",
    "    if not solver:\n",
    "        return\n",
    "\n",
    "    # Create the variables x and y.\n",
    "    x = solver.NumVar(0, 1, \"x\")\n",
    "    y = solver.NumVar(0, 2, \"y\")\n",
    "\n",
    "    print(\"Number of variables =\", solver.NumVariables())\n",
    "\n",
    "    # Create a linear constraint, 0 <= x + y <= 2.\n",
    "    ct = solver.Constraint(0, 2, \"ct\")\n",
    "    ct.SetCoefficient(x, 1)\n",
    "    ct.SetCoefficient(y, 1)\n",
    "\n",
    "    print(\"Number of constraints =\", solver.NumConstraints())\n",
    "\n",
    "    # Create the objective function, 3 * x + y.\n",
    "    objective = solver.Objective()\n",
    "    objective.SetCoefficient(x, 3)\n",
    "    objective.SetCoefficient(y, 1)\n",
    "    objective.SetMaximization()\n",
    "\n",
    "    solver.Solve()\n",
    "\n",
    "    print(\"Solution:\")\n",
    "    print(\"Objective value =\", objective.Value())\n",
    "    print(\"x =\", x.solution_value())\n",
    "    print(\"y =\", y.solution_value())\n",
    "\n",
    "\n",
    "if __name__ == \"__main__\":\n",
    "    main()"
   ]
  }
 ],
 "metadata": {
  "kernelspec": {
   "display_name": "base",
   "language": "python",
   "name": "python3"
  },
  "language_info": {
   "codemirror_mode": {
    "name": "ipython",
    "version": 3
   },
   "file_extension": ".py",
   "mimetype": "text/x-python",
   "name": "python",
   "nbconvert_exporter": "python",
   "pygments_lexer": "ipython3",
   "version": "3.10.10"
  },
  "orig_nbformat": 4
 },
 "nbformat": 4,
 "nbformat_minor": 2
}
