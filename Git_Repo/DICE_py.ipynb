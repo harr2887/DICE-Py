{
 "cells": [
  {
   "cell_type": "markdown",
   "id": "55a8ef29-9b47-47ab-ab90-3d81dd1a611f",
   "metadata": {},
   "source": [
    "# DICE-Py Dev\n",
    "\n",
    "### Author: Jacob Harris\n",
    "\n",
    "MS Thesis work replicating Nordhaus' DICE Model from GAMS to Python"
   ]
  },
  {
   "cell_type": "code",
   "execution_count": 4,
   "id": "af9dfb70-401e-4baa-8c4b-b8d33b2390b2",
   "metadata": {},
   "outputs": [
    {
     "name": "stdout",
     "output_type": "stream",
     "text": [
      "[2015, 2020, 2025, 2030, 2035, 2040, 2045, 2050, 2055, 2060, 2065, 2070, 2075, 2080, 2085, 2090, 2095, 2100, 2105, 2110, 2115, 2120, 2125, 2130, 2135, 2140, 2145, 2150, 2155, 2160, 2165, 2170, 2175, 2180, 2185, 2190, 2195, 2200, 2205, 2210, 2215, 2220, 2225, 2230, 2235, 2240, 2245, 2250, 2255, 2260, 2265, 2270, 2275, 2280, 2285, 2290, 2295, 2300, 2305, 2310, 2315, 2320, 2325, 2330, 2335, 2340, 2345, 2350, 2355, 2360, 2365, 2370, 2375, 2380, 2385, 2390, 2395, 2400, 2405, 2410, 2415, 2420, 2425, 2430, 2435, 2440, 2445, 2450, 2455, 2460, 2465, 2470, 2475, 2480, 2485, 2490, 2495, 2500, 2505, 2510]\n"
     ]
    }
   ],
   "source": [
    "# Define params here\n",
    "\n",
    "t = [i for i in range(1, 101)] # Period time stamps\n",
    "year = [2015] # year aquivalent to time stamps\n",
    "\n",
    "for i in range(1, 100):\n",
    "    year.append(year[0]+i*5) # Every 5 years since 2015\n",
    "print(year)"
   ]
  }
 ],
 "metadata": {
  "kernelspec": {
   "display_name": "Python 3 (ipykernel)",
   "language": "python",
   "name": "python3"
  },
  "language_info": {
   "codemirror_mode": {
    "name": "ipython",
    "version": 3
   },
   "file_extension": ".py",
   "mimetype": "text/x-python",
   "name": "python",
   "nbconvert_exporter": "python",
   "pygments_lexer": "ipython3",
   "version": "3.10.5"
  }
 },
 "nbformat": 4,
 "nbformat_minor": 5
}
