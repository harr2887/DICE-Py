{
 "cells": [
  {
   "cell_type": "markdown",
   "metadata": {},
   "source": [
    "# Pyomo Practice"
   ]
  },
  {
   "cell_type": "code",
   "execution_count": 2,
   "metadata": {},
   "outputs": [],
   "source": [
    "import pyomo.environ as pyomo\n"
   ]
  },
  {
   "cell_type": "code",
   "execution_count": 5,
   "metadata": {},
   "outputs": [
    {
     "name": "stdout",
     "output_type": "stream",
     "text": [
      "\n",
      "Problem: \n",
      "- Name: x1\n",
      "  Lower bound: 55.0\n",
      "  Upper bound: 55.0\n",
      "  Number of objectives: 1\n",
      "  Number of constraints: 3\n",
      "  Number of variables: 2\n",
      "  Number of binary variables: 0\n",
      "  Number of integer variables: 0\n",
      "  Number of continuous variables: 2\n",
      "  Number of nonzeros: 6\n",
      "  Sense: maximize\n",
      "Solver: \n",
      "- Status: ok\n",
      "  Return code: 0\n",
      "  Message: Model was solved to optimality (subject to tolerances), and an optimal solution is available.\n",
      "  Termination condition: optimal\n",
      "  Termination message: Model was solved to optimality (subject to tolerances), and an optimal solution is available.\n",
      "  Wall time: 0.002000093460083008\n",
      "  Error rc: 0\n",
      "  Time: 0.13951921463012695\n",
      "Solution: \n",
      "- number of solutions: 0\n",
      "  number of solutions displayed: 0\n",
      "\n",
      "5.0 5.0\n"
     ]
    }
   ],
   "source": [
    "\n",
    "# Define model\n",
    "model = pyomo.ConcreteModel()\n",
    "\n",
    "# Create variables with attributes (set domain)\n",
    "model.x1 = pyomo.Var(domain=pyomo.NonNegativeReals) \n",
    "model.x2 = pyomo.Var(domain=pyomo.NonNegativeReals) \n",
    "\n",
    "# Set up constraints\n",
    "model.c = pyomo.ConstraintList() \n",
    "model.c.add(model.x1*10 + 1 >= model.x2) # 10x_1 + 1 >= x_2\n",
    "model.c.add(model.x1*(0.2) + 4 >= model.x2)\n",
    "model.c.add(model.x1*(-0.2) + 6 >= model.x2)\n",
    "\n",
    "# Initialize objective function: z = x_1 + 10x_2\n",
    "model.objective = pyomo.Objective(rule = lambda model: model.x1 + model.x2*10,\n",
    "                                  sense = pyomo.maximize)\n",
    "\n",
    "# Select solver\n",
    "solver = pyomo.SolverFactory('gurobi') # cbc is another solver\n",
    "\n",
    "result = solver.solve(model)\n",
    "\n",
    "print(result)\n",
    "print(model.x1(), model.x2())\n",
    "\n"
   ]
  }
 ],
 "metadata": {
  "kernelspec": {
   "display_name": "8222env1",
   "language": "python",
   "name": "python3"
  },
  "language_info": {
   "codemirror_mode": {
    "name": "ipython",
    "version": 3
   },
   "file_extension": ".py",
   "mimetype": "text/x-python",
   "name": "python",
   "nbconvert_exporter": "python",
   "pygments_lexer": "ipython3",
   "version": "3.10.10"
  }
 },
 "nbformat": 4,
 "nbformat_minor": 2
}
